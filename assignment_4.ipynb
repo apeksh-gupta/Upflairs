{
 "cells": [
  {
   "cell_type": "markdown",
   "metadata": {},
   "source": [
    "1. Write a Python program to calculate the factorial of a non-negative integer entered by the \n",
    "user."
   ]
  },
  {
   "cell_type": "code",
   "execution_count": 25,
   "metadata": {},
   "outputs": [
    {
     "name": "stdout",
     "output_type": "stream",
     "text": [
      "120\n"
     ]
    }
   ],
   "source": [
    "n = int(input(\"Enter A Number : \"))\n",
    "if n < 0:\n",
    "    print(\"Enter A Valid Number\")\n",
    "elif n == 0:\n",
    "    print(1)\n",
    "else:\n",
    "    fact = 1\n",
    "    while( n > 0 ):\n",
    "        fact  = fact * n\n",
    "        n = n-1\n",
    "print(fact)"
   ]
  },
  {
   "cell_type": "markdown",
   "metadata": {},
   "source": [
    "2. Write a Python program to read a text file line by line and display the number of words in \n",
    "each line. Create a dome text file by it yourself for this assignment."
   ]
  },
  {
   "cell_type": "code",
   "execution_count": 16,
   "metadata": {},
   "outputs": [
    {
     "name": "stdout",
     "output_type": "stream",
     "text": [
      " With Great Power Comes Great Responsibility\n",
      " -> word count : 6\n",
      " \n",
      " Hope is a good thing, maybe the best of things\n",
      " -> word count : 10\n",
      " \n",
      " I AM IRON MAN\n",
      " -> word count : 4\n",
      " \n",
      " I'm the king of the world!\n",
      " -> word count : 6\n",
      " \n",
      " babumoshai zindagi badi honi chahiye lambi nhi\n",
      " -> word count : 7\n",
      " \n"
     ]
    }
   ],
   "source": [
    "import os\n",
    "file = open( \"demo.text\", \"w\" )\n",
    "file.write( \"With Great Power Comes Great Responsibility\\n\" )\n",
    "file.write( \"Hope is a good thing, maybe the best of things\\n\" )\n",
    "file.write( \"I AM IRON MAN\\n\" )\n",
    "file.write( \"I'm the king of the world!\\n\" )\n",
    "file.write( \"babumoshai zindagi badi honi chahiye lambi nhi\\n\" )\n",
    "file1 = open(\"demo.text\" , \"r\")\n",
    "for line in file1 :\n",
    "    words = line.split()\n",
    "    word_count = len(words)\n",
    "    print(f\" {line} -> word count : {word_count} \\n \" )\n",
    "    \n",
    "file1.close()\n"
   ]
  },
  {
   "cell_type": "markdown",
   "metadata": {},
   "source": [
    "3. Write a Python function to find the maximum and minimum numbers in a given list of \n",
    "numbers without using in built functions"
   ]
  },
  {
   "cell_type": "code",
   "execution_count": null,
   "metadata": {},
   "outputs": [
    {
     "name": "stdout",
     "output_type": "stream",
     "text": [
      "20 is the maximum element\n",
      "3 is the minimum element\n"
     ]
    }
   ],
   "source": [
    "list = [4,21,5,7,3,10,20,12,17]\n",
    "max = list[0]\n",
    "min = list[0]\n",
    "for i in list:\n",
    "    if i > max:\n",
    "        max = i\n",
    "    if i < min :\n",
    "        min = i\n",
    "print(f\"{max} is the maximum element\")\n",
    "print(f\"{min} is the minimum element\")\n",
    "\n",
    "      \n"
   ]
  },
  {
   "cell_type": "markdown",
   "metadata": {},
   "source": [
    "4. Write a Python program to find the longest word in a given list of words. If there are \n",
    "multiple words with the same length, return the first one encountered word"
   ]
  },
  {
   "cell_type": "code",
   "execution_count": 24,
   "metadata": {},
   "outputs": [
    {
     "name": "stdout",
     "output_type": "stream",
     "text": [
      "ARGENTINA\n"
     ]
    }
   ],
   "source": [
    "list = [ \"INDIA\" , \"ARGENTINA\", \"AFRICA\" , \"CHINA\" , \"AUSTRALIA\" , \"ARIZONA\" , \"AMERICA\" ]\n",
    "max = list[0]\n",
    "for i in list :\n",
    "    if len(i) > len(max):\n",
    "        max = i\n",
    "        larget_word = max\n",
    "\n",
    "print(larget_word)\n"
   ]
  }
 ],
 "metadata": {
  "kernelspec": {
   "display_name": "Python 3",
   "language": "python",
   "name": "python3"
  },
  "language_info": {
   "codemirror_mode": {
    "name": "ipython",
    "version": 3
   },
   "file_extension": ".py",
   "mimetype": "text/x-python",
   "name": "python",
   "nbconvert_exporter": "python",
   "pygments_lexer": "ipython3",
   "version": "3.12.3"
  }
 },
 "nbformat": 4,
 "nbformat_minor": 2
}
