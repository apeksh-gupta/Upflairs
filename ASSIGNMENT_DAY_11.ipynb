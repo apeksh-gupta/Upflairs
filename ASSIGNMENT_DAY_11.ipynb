{
 "cells": [
  {
   "cell_type": "markdown",
   "metadata": {},
   "source": [
    "Create a numpy array with filling random values, and shape of array\n",
    "should be (12,5), after that manipulate the value of last row.\n",
    "For e.g. let’s consider this is your last row [41,52,63,96,85], you will\n",
    "update this line like this [1,2,3,4,5]"
   ]
  },
  {
   "cell_type": "code",
   "execution_count": 18,
   "metadata": {},
   "outputs": [],
   "source": [
    "import numpy as np\n",
    "arr1 = np.random.randint(1,51,60).reshape(12,5)"
   ]
  },
  {
   "cell_type": "code",
   "execution_count": 19,
   "metadata": {},
   "outputs": [
    {
     "data": {
      "text/plain": [
       "array([[43, 29, 30, 21,  7],\n",
       "       [40, 40, 31,  6, 15],\n",
       "       [ 8, 30, 25, 48, 19],\n",
       "       [ 8, 11, 40,  7, 35],\n",
       "       [24,  3, 17, 30, 33],\n",
       "       [ 8, 48,  5, 17,  2],\n",
       "       [38, 12, 38,  3, 47],\n",
       "       [20,  4, 29, 11, 11],\n",
       "       [ 5,  3, 47, 27, 13],\n",
       "       [25, 21, 19, 32, 39],\n",
       "       [10,  2, 38, 45, 25],\n",
       "       [ 4, 20, 26, 15, 39]])"
      ]
     },
     "execution_count": 19,
     "metadata": {},
     "output_type": "execute_result"
    }
   ],
   "source": [
    "\n",
    "arr1"
   ]
  },
  {
   "cell_type": "code",
   "execution_count": 20,
   "metadata": {},
   "outputs": [
    {
     "data": {
      "text/plain": [
       "2"
      ]
     },
     "execution_count": 20,
     "metadata": {},
     "output_type": "execute_result"
    }
   ],
   "source": [
    "arr1.ndim"
   ]
  },
  {
   "cell_type": "code",
   "execution_count": 27,
   "metadata": {},
   "outputs": [
    {
     "data": {
      "text/plain": [
       "array([ 4, 20, 26, 15, 39])"
      ]
     },
     "execution_count": 27,
     "metadata": {},
     "output_type": "execute_result"
    }
   ],
   "source": [
    "arr1[11]  # last row"
   ]
  },
  {
   "cell_type": "code",
   "execution_count": 29,
   "metadata": {},
   "outputs": [],
   "source": [
    "arr1[11] = [1,2,3,4,5]  # changing last row"
   ]
  },
  {
   "cell_type": "code",
   "execution_count": 30,
   "metadata": {},
   "outputs": [
    {
     "data": {
      "text/plain": [
       "array([[43, 29, 30, 21,  7],\n",
       "       [40, 40, 31,  6, 15],\n",
       "       [ 8, 30, 25, 48, 19],\n",
       "       [ 8, 11, 40,  7, 35],\n",
       "       [24,  3, 17, 30, 33],\n",
       "       [ 8, 48,  5, 17,  2],\n",
       "       [38, 12, 38,  3, 47],\n",
       "       [20,  4, 29, 11, 11],\n",
       "       [ 5,  3, 47, 27, 13],\n",
       "       [25, 21, 19, 32, 39],\n",
       "       [10,  2, 38, 45, 25],\n",
       "       [ 1,  2,  3,  4,  5]])"
      ]
     },
     "execution_count": 30,
     "metadata": {},
     "output_type": "execute_result"
    }
   ],
   "source": [
    "arr1"
   ]
  },
  {
   "cell_type": "markdown",
   "metadata": {},
   "source": [
    "Write a python function to find the minimum and maximum elements\n",
    "in each and every row of numpy array, and create numpy array with\n",
    "filling random integer value, and shape of array should be (12,5),\n",
    "For e.g. I took first row from\n",
    "2D array [21,4,3,62,52,1] so 1 is minimum and 52 is maximum in this\n",
    "row. So your python function should return this output for each and\n",
    "every row."
   ]
  },
  {
   "cell_type": "code",
   "execution_count": 36,
   "metadata": {},
   "outputs": [
    {
     "data": {
      "text/plain": [
       "array([[ 8, 46, 42, 13, 39],\n",
       "       [ 6, 26, 12,  2, 48],\n",
       "       [ 1, 38, 23,  2, 35],\n",
       "       [47, 29, 25,  1,  5],\n",
       "       [36, 33,  8,  8, 23],\n",
       "       [17,  1, 25, 19,  8],\n",
       "       [46, 47, 29, 39, 49],\n",
       "       [16, 46, 40,  4, 20],\n",
       "       [37,  5, 39, 31, 22],\n",
       "       [44, 28, 26, 11,  3],\n",
       "       [ 7,  6, 33, 36, 45],\n",
       "       [10, 43, 12,  3, 13]])"
      ]
     },
     "execution_count": 36,
     "metadata": {},
     "output_type": "execute_result"
    }
   ],
   "source": [
    "def max_n_min(arr):\n",
    "    for i in range(len(arr)):\n",
    "        j=0\n",
    "        max=arr[i][j]\n",
    "        min=arr[i][j]\n",
    "        for num in arr[i]:\n",
    "            if arr[i][j]>max:\n",
    "                max=arr[i][j]\n",
    "            if arr[i][j]<min:\n",
    "                min=arr[i][j]\n",
    "            j+=1\n",
    "        print(f'For row {i+1}, max element : {max}  and min element : {min}' )\n",
    "\n",
    "arr2 = np.random.randint(1,51,60).reshape(12,5)\n",
    "arr2\n"
   ]
  },
  {
   "cell_type": "code",
   "execution_count": 37,
   "metadata": {},
   "outputs": [
    {
     "name": "stdout",
     "output_type": "stream",
     "text": [
      "For row 1, max element : 46  and min element : 8\n",
      "For row 2, max element : 48  and min element : 2\n",
      "For row 3, max element : 38  and min element : 1\n",
      "For row 4, max element : 47  and min element : 1\n",
      "For row 5, max element : 36  and min element : 8\n",
      "For row 6, max element : 25  and min element : 1\n",
      "For row 7, max element : 49  and min element : 29\n",
      "For row 8, max element : 46  and min element : 4\n",
      "For row 9, max element : 39  and min element : 5\n",
      "For row 10, max element : 44  and min element : 3\n",
      "For row 11, max element : 45  and min element : 6\n",
      "For row 12, max element : 43  and min element : 3\n"
     ]
    }
   ],
   "source": [
    "max_n_min(arr2)"
   ]
  },
  {
   "cell_type": "code",
   "execution_count": null,
   "metadata": {},
   "outputs": [],
   "source": []
  }
 ],
 "metadata": {
  "kernelspec": {
   "display_name": "Python 3",
   "language": "python",
   "name": "python3"
  },
  "language_info": {
   "codemirror_mode": {
    "name": "ipython",
    "version": 3
   },
   "file_extension": ".py",
   "mimetype": "text/x-python",
   "name": "python",
   "nbconvert_exporter": "python",
   "pygments_lexer": "ipython3",
   "version": "3.12.1"
  }
 },
 "nbformat": 4,
 "nbformat_minor": 2
}
