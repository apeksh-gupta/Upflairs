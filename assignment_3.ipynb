{
 "cells": [
  {
   "cell_type": "markdown",
   "metadata": {},
   "source": [
    " Create folder Named “JECRC” and put multiple images, text and pdf \n",
    "files inside the JECRC folder, after that you will write a python \n",
    "program to filter out all the images, text and pdf files in separate folder \n",
    "like “image_folder” , “text_folder” and “pdf_folder”, your python \n",
    "program will be able to filter out all these file and move into the \n",
    "corresponding folders."
   ]
  },
  {
   "cell_type": "code",
   "execution_count": 54,
   "metadata": {},
   "outputs": [],
   "source": [
    "import os "
   ]
  },
  {
   "cell_type": "code",
   "execution_count": 55,
   "metadata": {},
   "outputs": [],
   "source": [
    "import shutil"
   ]
  },
  {
   "cell_type": "code",
   "execution_count": 56,
   "metadata": {},
   "outputs": [],
   "source": [
    "os.makedirs(\"JECRC\")"
   ]
  },
  {
   "cell_type": "code",
   "execution_count": 57,
   "metadata": {},
   "outputs": [],
   "source": [
    "os.makedirs(\"text_folder\")"
   ]
  },
  {
   "cell_type": "code",
   "execution_count": 58,
   "metadata": {},
   "outputs": [],
   "source": [
    "os.makedirs(\"pdf_folder\")"
   ]
  },
  {
   "cell_type": "code",
   "execution_count": 59,
   "metadata": {},
   "outputs": [],
   "source": [
    "os.makedirs(\"image_folder\")"
   ]
  },
  {
   "cell_type": "code",
   "execution_count": 60,
   "metadata": {},
   "outputs": [],
   "source": [
    "source_folder = r\"D:\\vs code\\upflairs ML\\JECRC\""
   ]
  },
  {
   "cell_type": "code",
   "execution_count": 61,
   "metadata": {},
   "outputs": [],
   "source": [
    "pdf_folder = r\"D:\\vs code\\upflairs ML\\pdf_folder\""
   ]
  },
  {
   "cell_type": "code",
   "execution_count": 62,
   "metadata": {},
   "outputs": [],
   "source": [
    "image_folder = r\"D:\\vs code\\upflairs ML\\image_folder\""
   ]
  },
  {
   "cell_type": "code",
   "execution_count": 63,
   "metadata": {},
   "outputs": [],
   "source": [
    "text_folder =r\"D:\\vs code\\upflairs ML\\text_folder\""
   ]
  },
  {
   "cell_type": "code",
   "execution_count": 64,
   "metadata": {},
   "outputs": [],
   "source": [
    "os.chdir(source_folder)"
   ]
  },
  {
   "cell_type": "code",
   "execution_count": 65,
   "metadata": {},
   "outputs": [
    {
     "data": {
      "text/plain": [
       "'D:\\\\vs code\\\\upflairs ML\\\\JECRC'"
      ]
     },
     "execution_count": 65,
     "metadata": {},
     "output_type": "execute_result"
    }
   ],
   "source": [
    "pwd"
   ]
  },
  {
   "cell_type": "code",
   "execution_count": 66,
   "metadata": {},
   "outputs": [],
   "source": [
    "files = os.listdir()"
   ]
  },
  {
   "cell_type": "code",
   "execution_count": 67,
   "metadata": {},
   "outputs": [
    {
     "name": "stdout",
     "output_type": "stream",
     "text": [
      "['22EJCCS038.pdf', '22EJCCS041.pdf', '22EJCCS051.pdf', '22EJCCS060.pdf', 'bye.txt', 'good.txt', 'hello.txt', 'image_folder', 'JECRC', 'magical-wallpaper-3840x2160.jpg', 'nice.txt', 'pdf_folder', 'sunset_312-wallpaper-3840x2160.jpg', 'text_folder', 'the_mandalorian-wallpaper-3840x2160.jpg', 'view_11-wallpaper-3840x2160.jpg']\n"
     ]
    }
   ],
   "source": [
    "print(files)"
   ]
  },
  {
   "cell_type": "code",
   "execution_count": 68,
   "metadata": {},
   "outputs": [],
   "source": [
    "for i in files :\n",
    "    file_extension = os.path.splitext(i)[1]\n",
    "    if file_extension in [\".txt\"] :\n",
    "        shutil.move(os.path.join(source_folder, i), os.path.join(text_folder, i))\n",
    "    if file_extension in [\".pdf\"] :    \n",
    "        shutil.move(os.path.join(source_folder, i), os.path.join(pdf_folder, i))\n",
    "    if file_extension in [\".jpg\"] :\n",
    "        shutil.move(os.path.join(source_folder, i), os.path.join(image_folder, i))"
   ]
  },
  {
   "cell_type": "code",
   "execution_count": null,
   "metadata": {},
   "outputs": [],
   "source": []
  }
 ],
 "metadata": {
  "kernelspec": {
   "display_name": "Python 3",
   "language": "python",
   "name": "python3"
  },
  "language_info": {
   "codemirror_mode": {
    "name": "ipython",
    "version": 3
   },
   "file_extension": ".py",
   "mimetype": "text/x-python",
   "name": "python",
   "nbconvert_exporter": "python",
   "pygments_lexer": "ipython3",
   "version": "3.12.3"
  }
 },
 "nbformat": 4,
 "nbformat_minor": 2
}
