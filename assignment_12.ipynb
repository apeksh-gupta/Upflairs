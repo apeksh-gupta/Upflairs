{
 "cells": [
  {
   "cell_type": "markdown",
   "metadata": {},
   "source": [
    " Create a numpy array with filling random values, and shape of array \n",
    "should be (12,5), and pass this array from a user-defined function, and \n",
    "function should be able to return average, minimum, maximum, and \n",
    "no. of evens in your last row. \n",
    "For e.g. consider this is last row [41,52,63,96,85], \n",
    "Output:\n",
    "Average -> 67.4\n",
    "Minimum -> 41\n",
    "Maximum -> 96\n",
    "No. of evens -> 2\n"
   ]
  },
  {
   "cell_type": "code",
   "execution_count": 18,
   "metadata": {},
   "outputs": [
    {
     "data": {
      "text/plain": [
       "array([[36, 43, 34,  3, 33],\n",
       "       [24, 38, 31, 36, 58],\n",
       "       [30, 23, 10, 17, 50],\n",
       "       [ 4, 27, 23,  1, 19],\n",
       "       [14, 33, 32, 24, 56],\n",
       "       [ 1, 17, 11, 48, 24],\n",
       "       [55,  5, 33, 39, 49],\n",
       "       [ 5, 12, 34, 19, 45],\n",
       "       [21, 14, 20, 42, 31],\n",
       "       [17, 14, 48, 12, 54],\n",
       "       [60, 49, 38, 30, 53],\n",
       "       [36,  7, 37, 24,  2]])"
      ]
     },
     "execution_count": 18,
     "metadata": {},
     "output_type": "execute_result"
    }
   ],
   "source": [
    "import numpy as np\n",
    "\n",
    "def function(arr):\n",
    "    tot_sum=0 \n",
    "    max=arr[len(arr) -1][0]\n",
    "    min=arr[len(arr) -1][0]\n",
    "    for i in arr[len(arr) -1]:\n",
    "        tot_sum += i\n",
    "        if i > max :\n",
    "            max = i\n",
    "        if i < min:\n",
    "            min = i\n",
    "    avg = tot_sum/5\n",
    "    print(f'Average : {avg} , Maximum Element : {max} , Minimum Element : {min}')  \n",
    "\n",
    "arr0 = np.random.randint(1,61,60)\n",
    "arr0\n",
    "arr1 = arr0.reshape(12,5)\n",
    "arr1\n",
    "\n",
    "\n",
    "\n",
    "\n",
    "        \n"
   ]
  },
  {
   "cell_type": "code",
   "execution_count": 19,
   "metadata": {},
   "outputs": [
    {
     "name": "stdout",
     "output_type": "stream",
     "text": [
      "Average : 21.2 , Maximum Element : 37 , Minimum Element : 2\n"
     ]
    }
   ],
   "source": [
    "function(arr1)"
   ]
  },
  {
   "cell_type": "markdown",
   "metadata": {},
   "source": [
    " Let’s consider we have an array, e.g.\n",
    "[[1 2 3 ],\n",
    "[4 5 6 ],\n",
    "[7 8 9 ]]\n",
    "And apply slicing techniques to get reversed order elements of all the rows, \n",
    "like this -> [[3 2 1],\n",
    " [6 5 4],\n",
    " [9 8 7]]\n"
   ]
  },
  {
   "cell_type": "code",
   "execution_count": null,
   "metadata": {},
   "outputs": [
    {
     "data": {
      "text/plain": [
       "array([[1, 2, 3],\n",
       "       [4, 5, 6],\n",
       "       [7, 8, 9]])"
      ]
     },
     "execution_count": 6,
     "metadata": {},
     "output_type": "execute_result"
    }
   ],
   "source": [
    "import numpy as np\n",
    "arr  = np.array( [[1,2,3] , [4,5,6] , [7,8,9]] )\n",
    "arr\n",
    "\n"
   ]
  },
  {
   "cell_type": "code",
   "execution_count": null,
   "metadata": {},
   "outputs": [
    {
     "data": {
      "text/plain": [
       "array([[3, 2, 1],\n",
       "       [6, 5, 4],\n",
       "       [9, 8, 7]])"
      ]
     },
     "execution_count": 7,
     "metadata": {},
     "output_type": "execute_result"
    }
   ],
   "source": [
    "arr[: , ::-1]"
   ]
  },
  {
   "cell_type": "code",
   "execution_count": null,
   "metadata": {},
   "outputs": [],
   "source": []
  }
 ],
 "metadata": {
  "kernelspec": {
   "display_name": "Python 3",
   "language": "python",
   "name": "python3"
  },
  "language_info": {
   "codemirror_mode": {
    "name": "ipython",
    "version": 3
   },
   "file_extension": ".py",
   "mimetype": "text/x-python",
   "name": "python",
   "nbconvert_exporter": "python",
   "pygments_lexer": "ipython3",
   "version": "3.12.3"
  }
 },
 "nbformat": 4,
 "nbformat_minor": 2
}
