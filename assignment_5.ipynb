{
 "cells": [
  {
   "cell_type": "markdown",
   "metadata": {},
   "source": [
    "1. Write a Python method in Oop called “calculate_area” that takes the radius of a \n",
    "circle as input and returns the area of the circle, write program using Oop.\n"
   ]
  },
  {
   "cell_type": "code",
   "execution_count": 5,
   "metadata": {},
   "outputs": [
    {
     "name": "stdout",
     "output_type": "stream",
     "text": [
      "78.5\n"
     ]
    }
   ],
   "source": [
    "class calculate_area:\n",
    "    def __init__(self , r):\n",
    "        self.area = 3.14 * r * r\n",
    "\n",
    "    def display(self):\n",
    "        print(self.area)\n",
    "\n",
    "x = int(input(\"Enter Radius Of The Circle : \"))\n",
    "R1 = calculate_area( r = x ) \n",
    "R1.display()\n",
    "\n",
    " \n",
    "        "
   ]
  },
  {
   "cell_type": "markdown",
   "metadata": {},
   "source": [
    "2. Write a Python method in Oop called “calculate_discount” that calculates the \n",
    "final price of an item after applying a discount percentage. The function should \n",
    "take the original price and the discount percentage as inputs"
   ]
  },
  {
   "cell_type": "code",
   "execution_count": 7,
   "metadata": {},
   "outputs": [
    {
     "name": "stdout",
     "output_type": "stream",
     "text": [
      " final price of item : 80.0\n"
     ]
    }
   ],
   "source": [
    "class calculate_discount :\n",
    "    def __init__(self , original_price , discount_percent) :\n",
    "        self.discount = original_price * (discount_percent / 100)\n",
    "        self.final_price = original_price - self.discount\n",
    "    \n",
    "    def display( self ) :\n",
    "        print(  f\" final price of item : {self.final_price}\" )\n",
    "\n",
    "x = int(input( \"Enter price of item : \" ))       \n",
    "y = int(input( \"Enter discount percentage on item : \" ))         \n",
    "item = calculate_discount(original_price = x , discount_percent = y )\n",
    "item.display()"
   ]
  },
  {
   "cell_type": "markdown",
   "metadata": {},
   "source": [
    "3. Write a method in Oop named “count_vowels” that takes a string as input and \n",
    "returns the count of vowels (both uppercase and lowercase) in the string.\n"
   ]
  },
  {
   "cell_type": "code",
   "execution_count": 15,
   "metadata": {},
   "outputs": [
    {
     "name": "stdout",
     "output_type": "stream",
     "text": [
      " Total number of vowels in aPEKSH : 2 \n"
     ]
    }
   ],
   "source": [
    "class count_vowels :\n",
    "    def __init__(self , s ) :\n",
    "        self.string = s\n",
    "        count = 0\n",
    "        for i in self.string :\n",
    "            if i in ( 'a', 'e', 'i', 'o', 'u' , 'A' , 'E' , 'I' ,'O', 'U' ):\n",
    "                count = count + 1\n",
    "        self.total_count = count\n",
    "\n",
    "    def display( self ) :\n",
    "        print(f\" Total number of vowels in {self.string} : {self.total_count} \")  \n",
    "\n",
    "x = input('Enter your string')\n",
    "obj = count_vowels(s = x)\n",
    "obj.display()\n",
    "  "
   ]
  }
 ],
 "metadata": {
  "kernelspec": {
   "display_name": "Python 3",
   "language": "python",
   "name": "python3"
  },
  "language_info": {
   "codemirror_mode": {
    "name": "ipython",
    "version": 3
   },
   "file_extension": ".py",
   "mimetype": "text/x-python",
   "name": "python",
   "nbconvert_exporter": "python",
   "pygments_lexer": "ipython3",
   "version": "3.12.3"
  }
 },
 "nbformat": 4,
 "nbformat_minor": 2
}
